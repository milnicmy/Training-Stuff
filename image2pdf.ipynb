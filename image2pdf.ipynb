{
 "cells": [
  {
   "cell_type": "code",
   "execution_count": 1,
   "metadata": {},
   "outputs": [],
   "source": [
    "import img2pdf \n",
    "import sys\n",
    "import os\n",
    "import time"
   ]
  },
  {
   "cell_type": "code",
   "execution_count": 2,
   "metadata": {
    "scrolled": true
   },
   "outputs": [
    {
     "name": "stdout",
     "output_type": "stream",
     "text": [
      "this is the name of the script: C:\\Anaconda3\\lib\\site-packages\\ipykernel_launcher.py\n",
      "number of arguments: 3\n",
      "the arguments are: ['C:\\\\Anaconda3\\\\lib\\\\site-packages\\\\ipykernel_launcher.py', '-f', 'C:\\\\Users\\\\milnicmy\\\\AppData\\\\Roaming\\\\jupyter\\\\runtime\\\\kernel-e429f987-bb08-48b3-b978-7eb9519b10f1.json']\n"
     ]
    }
   ],
   "source": [
    "print(\"this is the name of the script:\", sys.argv[0])\n",
    "print(\"number of arguments:\",len(sys.argv))\n",
    "print(\"the arguments are:\", str(sys.argv))"
   ]
  },
  {
   "cell_type": "code",
   "execution_count": 3,
   "metadata": {},
   "outputs": [
    {
     "name": "stdout",
     "output_type": "stream",
     "text": [
      "I'm looking for TIFs in the C:\\Users\\milnicmy\\Test\n"
     ]
    }
   ],
   "source": [
    "if len(sys.argv) > 1:\n",
    "    image_directory = 'C:\\\\Users\\milnicmy\\Test'\n",
    "    print(\"I'm looking for TIFs in the\", image_directory)\n",
    "else:\n",
    "    print(\"Please tell me the directory to look in\")\n",
    "    sys.exit()"
   ]
  },
  {
   "cell_type": "code",
   "execution_count": 4,
   "metadata": {},
   "outputs": [],
   "source": [
    "image_files = []"
   ]
  },
  {
   "cell_type": "code",
   "execution_count": 5,
   "metadata": {},
   "outputs": [
    {
     "name": "stdout",
     "output_type": "stream",
     "text": [
      "Discovered this TIF:  C:\\Users\\milnicmy\\Test\\a_image.tif\n",
      "Discovered this TIF:  C:\\Users\\milnicmy\\Test\\dog.tif\n",
      "Putting all TIFs into  C:\\Users\\milnicmy\\Test\\20190619-224212-test.pdf\n"
     ]
    }
   ],
   "source": [
    "for root, dirs, files in os.walk(image_directory):\n",
    "    for file in files:\n",
    "        if file.endswith(\".tif\") or file.endswith(\".TIF\"):\n",
    "            print(\"Discovered this TIF: \", os.path.join(root, file))\n",
    "            image_files.append(os.path.join(root, file))\n",
    "\n",
    "if image_files:\n",
    "    output_file = time.strftime(\"%Y%m%d-%H%M%S-test\")# + \".pdf\"\n",
    "    completeName = os.path.join('C:\\\\Users\\milnicmy\\Test',output_file+\".pdf\")\n",
    "    print(\"Putting all TIFs into \", completeName)\n",
    "    pdf_bytes = img2pdf.convert(image_files)\n",
    "    file = open(completeName,\"wb\")\n",
    "    file.write(pdf_bytes)\n",
    "    file.close()\n",
    "else:\n",
    "    print(\"Couldn't find any TIFs\")"
   ]
  },
  {
   "cell_type": "code",
   "execution_count": null,
   "metadata": {},
   "outputs": [],
   "source": []
  }
 ],
 "metadata": {
  "kernelspec": {
   "display_name": "Python 3",
   "language": "python",
   "name": "python3"
  },
  "language_info": {
   "codemirror_mode": {
    "name": "ipython",
    "version": 3
   },
   "file_extension": ".py",
   "mimetype": "text/x-python",
   "name": "python",
   "nbconvert_exporter": "python",
   "pygments_lexer": "ipython3",
   "version": "3.7.3"
  }
 },
 "nbformat": 4,
 "nbformat_minor": 2
}
